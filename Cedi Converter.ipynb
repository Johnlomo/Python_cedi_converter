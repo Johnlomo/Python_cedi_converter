{
 "cells": [
  {
   "cell_type": "markdown",
   "id": "f61c7394",
   "metadata": {},
   "source": [
    "# Cedi converter\n",
    "\n",
    "Define the class \n",
    "\n",
    "Initialize an instance\n",
    "\n",
    "Take amount in GHS as argument \n",
    "\n",
    "Build Cedi to Dollar conversion method\n",
    "\n",
    "Build Cedi to Euro conversion method\n",
    "\n",
    "Build Cedi to Pound conversion method\n",
    "\n",
    "Build Cedi to Japan Yen conversion method"
   ]
  },
  {
   "cell_type": "code",
   "execution_count": 13,
   "id": "218e8a9c",
   "metadata": {},
   "outputs": [],
   "source": [
    "\n",
    "\n",
    "class CediConverter:\n",
    "    def __init__(self, amount):\n",
    "        self.amount = amount\n",
    "        \n",
    "    def __str__(self):\n",
    "        return f\"Your amount is GHS{self.amount}.\"\n",
    "    \n",
    "    def ghs_usd(self):\n",
    "        dollar = self.amount * 0.080\n",
    "        return f\"GHS{self.amount} is ${dollar}\"\n",
    "    \n",
    "    def ghs_gbp(self):\n",
    "        pound = self.amount * 0.066\n",
    "        return f\"GHS{self.amount} is £{pound}\"    \n",
    "\n",
    "    def ghs_eur(self):\n",
    "        euro = self.amount * 0.075\n",
    "        return f\"GHS{self.amount} is €{euro}\"\n",
    "    \n",
    "    def ghs_yen(self):\n",
    "        yen = self.amount * 10.79\n",
    "        return f\"GHS{self.amount} is ¥{yen}\"\n",
    "    \n",
    "    \n"
   ]
  },
  {
   "cell_type": "code",
   "execution_count": 39,
   "id": "14954895",
   "metadata": {
    "scrolled": true
   },
   "outputs": [
    {
     "name": "stdout",
     "output_type": "stream",
     "text": [
      "Enter Cedi amount:GHS250\n",
      "Enter\n",
      " 1 for Dollar (Rate:0.080)\n",
      " 2 for Pound (Rate:0.066)\n",
      " 3 for Euro (Rate:0.075)\n",
      " 4 for Yen (Rate:10.79)\n",
      " Enter:2\n",
      "GHS250 is £16.5\n"
     ]
    }
   ],
   "source": [
    "cedi_amount = CediConverter(int(input(\"Enter Cedi amount:GHS\")))\n",
    "currency = int(input(\"Enter\\n 1 for Dollar (Rate:0.080)\\n 2 for Pound (Rate:0.066)\\n 3 for Euro (Rate:0.075)\\n 4 for Yen (Rate:10.79)\\n Enter:\"))\n",
    "if currency == 1:\n",
    "    print(cedi_amount.ghs_usd())\n",
    "elif currency == 2:\n",
    "    print(cedi_amount.ghs_gbp())\n",
    "elif currency == 3:\n",
    "    print(cedi_amount.ghs_eur())\n",
    "elif currency == 4:\n",
    "    print(cedi_amount.ghs_yen())\n",
    "else:\n",
    "    print(\"Wrong input.\")"
   ]
  },
  {
   "cell_type": "code",
   "execution_count": null,
   "id": "61814ea7",
   "metadata": {},
   "outputs": [],
   "source": []
  }
 ],
 "metadata": {
  "kernelspec": {
   "display_name": "Python 3 (ipykernel)",
   "language": "python",
   "name": "python3"
  },
  "language_info": {
   "codemirror_mode": {
    "name": "ipython",
    "version": 3
   },
   "file_extension": ".py",
   "mimetype": "text/x-python",
   "name": "python",
   "nbconvert_exporter": "python",
   "pygments_lexer": "ipython3",
   "version": "3.9.13"
  }
 },
 "nbformat": 4,
 "nbformat_minor": 5
}
